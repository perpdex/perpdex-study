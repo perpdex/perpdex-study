{
 "cells": [
  {
   "cell_type": "code",
   "execution_count": 61,
   "id": "73c73cfa-f111-4d8f-95f7-b5ba9609c86b",
   "metadata": {},
   "outputs": [
    {
     "name": "stdout",
     "output_type": "stream",
     "text": [
      "100.0 100.0 200.0 200.0\n",
      "100.98765432098767 99.0317114500121 198.06318615465744 198.0634229000242\n",
      "101.9753086419753 98.10066476733144 196.2004097597318 196.20132953466288\n",
      "102.96296296296298 97.20475192173303 194.40749287362559 194.40950384346607\n",
      "103.9506172839506 96.34202103337905 192.68056655230052 192.6840420667581\n",
      "104.93827160493827 95.51066217732885 191.01604278074868 191.0213243546577\n",
      "105.92592592592592 94.70899470899472 189.4105894105894 189.41798941798945\n",
      "106.91358024691358 93.93545592376 187.86110773469468 187.87091184752\n",
      "107.90123456790123 93.18859088974031 186.36471238065178 186.37718177948062\n",
      "108.8888888888889 92.46704331450094 184.91871324801104 184.93408662900188\n"
     ]
    }
   ],
   "source": [
    "\n",
    "\n",
    "x0 = 100.0\n",
    "y0 = 100.0\n",
    "price0 = y0 / x0\n",
    "m = 3\n",
    "\n",
    "n = 10\n",
    "for i in range(n):\n",
    "    reserve_x = x0\n",
    "    reserve_y = y0\n",
    "    \n",
    "    for j in range(4):\n",
    "#         alpha = 1.0 / m\n",
    "        alpha = 0.5 * (1.0 + 1.0 / m)\n",
    "#         alpha = 1\n",
    "        a = 10.0 * i / n * (1 - alpha) ** j * alpha\n",
    "        y = (reserve_x * reserve_y / (reserve_x + m * a) - reserve_y) / m + reserve_y\n",
    "        b = reserve_y - y\n",
    "        reserve_x += a\n",
    "        reserve_y -= b\n",
    "        \n",
    "    price = reserve_y / reserve_x\n",
    "    crp_value = price * x0 + y0\n",
    "    lp_value = price * reserve_x + reserve_y\n",
    "    \n",
    "    print(reserve_x, reserve_y, crp_value, lp_value)\n"
   ]
  },
  {
   "cell_type": "code",
   "execution_count": 26,
   "id": "d3eeaa70-62ad-4f5c-9088-a2acf8926591",
   "metadata": {},
   "outputs": [
    {
     "name": "stdout",
     "output_type": "stream",
     "text": [
      "0.9995749715772635\n",
      "1.0146191381360705\n",
      "0.7637736214748952\n"
     ]
    }
   ],
   "source": [
    "\n",
    "import numpy as np\n",
    "\n",
    "n = 1000\n",
    "m = 100\n",
    "x = (np.random.rand(n, m) - 0.5) * 0.5 + 1\n",
    "print(np.mean(x))\n",
    "y = np.exp(np.sum(np.log(x), axis=1))\n",
    "y2 = y ** 0.5\n",
    "print(np.mean(y))\n",
    "print(np.mean(y2))"
   ]
  },
  {
   "cell_type": "code",
   "execution_count": null,
   "id": "c889b9f0-ca13-452b-932e-78f487615751",
   "metadata": {},
   "outputs": [],
   "source": []
  }
 ],
 "metadata": {
  "kernelspec": {
   "display_name": "Python 3 (ipykernel)",
   "language": "python",
   "name": "python3"
  },
  "language_info": {
   "codemirror_mode": {
    "name": "ipython",
    "version": 3
   },
   "file_extension": ".py",
   "mimetype": "text/x-python",
   "name": "python",
   "nbconvert_exporter": "python",
   "pygments_lexer": "ipython3",
   "version": "3.9.5"
  }
 },
 "nbformat": 4,
 "nbformat_minor": 5
}
