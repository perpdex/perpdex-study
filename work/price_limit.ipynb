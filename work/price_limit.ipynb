{
 "cells": [
  {
   "cell_type": "code",
   "execution_count": 1,
   "id": "01fbde06-c139-41ed-a515-976357874789",
   "metadata": {},
   "outputs": [],
   "source": [
    "import math\n",
    "\n",
    "import ccxt\n",
    "from crypto_data_fetcher.ftx import FtxFetcher\n",
    "import joblib\n",
    "import lightgbm as lgb\n",
    "import matplotlib.pyplot as plt\n",
    "import numba\n",
    "import numpy as np\n",
    "import pandas as pd\n",
    "from scipy.stats import ttest_1samp\n",
    "import seaborn as sns\n",
    "import talib\n",
    "\n",
    "from sklearn.ensemble import BaggingRegressor\n",
    "from sklearn.linear_model import RidgeCV\n",
    "from sklearn.model_selection import cross_val_score, KFold, TimeSeriesSplit"
   ]
  },
  {
   "cell_type": "code",
   "execution_count": 3,
   "id": "ae3de4fc-32ee-468f-b90b-bb137ec0811f",
   "metadata": {},
   "outputs": [
    {
     "data": {
      "text/html": [
       "<div>\n",
       "<style scoped>\n",
       "    .dataframe tbody tr th:only-of-type {\n",
       "        vertical-align: middle;\n",
       "    }\n",
       "\n",
       "    .dataframe tbody tr th {\n",
       "        vertical-align: top;\n",
       "    }\n",
       "\n",
       "    .dataframe thead th {\n",
       "        text-align: right;\n",
       "    }\n",
       "</style>\n",
       "<table border=\"1\" class=\"dataframe\">\n",
       "  <thead>\n",
       "    <tr style=\"text-align: right;\">\n",
       "      <th></th>\n",
       "      <th>op</th>\n",
       "      <th>hi</th>\n",
       "      <th>lo</th>\n",
       "      <th>cl</th>\n",
       "      <th>volume</th>\n",
       "    </tr>\n",
       "    <tr>\n",
       "      <th>timestamp</th>\n",
       "      <th></th>\n",
       "      <th></th>\n",
       "      <th></th>\n",
       "      <th></th>\n",
       "      <th></th>\n",
       "    </tr>\n",
       "  </thead>\n",
       "  <tbody>\n",
       "    <tr>\n",
       "      <th>2019-07-20 12:35:00+00:00</th>\n",
       "      <td>10564.25</td>\n",
       "      <td>10572.25</td>\n",
       "      <td>10560.5</td>\n",
       "      <td>10567.75</td>\n",
       "      <td>6.365293e+05</td>\n",
       "    </tr>\n",
       "    <tr>\n",
       "      <th>2019-07-20 12:36:00+00:00</th>\n",
       "      <td>10570.25</td>\n",
       "      <td>10572.75</td>\n",
       "      <td>10567.0</td>\n",
       "      <td>10569.25</td>\n",
       "      <td>0.000000e+00</td>\n",
       "    </tr>\n",
       "    <tr>\n",
       "      <th>2019-07-20 12:37:00+00:00</th>\n",
       "      <td>10569.25</td>\n",
       "      <td>10573.25</td>\n",
       "      <td>10567.0</td>\n",
       "      <td>10570.25</td>\n",
       "      <td>0.000000e+00</td>\n",
       "    </tr>\n",
       "    <tr>\n",
       "      <th>2019-07-20 12:38:00+00:00</th>\n",
       "      <td>10570.25</td>\n",
       "      <td>10572.25</td>\n",
       "      <td>10562.5</td>\n",
       "      <td>10567.00</td>\n",
       "      <td>0.000000e+00</td>\n",
       "    </tr>\n",
       "    <tr>\n",
       "      <th>2019-07-20 12:39:00+00:00</th>\n",
       "      <td>10567.00</td>\n",
       "      <td>10567.00</td>\n",
       "      <td>10562.5</td>\n",
       "      <td>10564.25</td>\n",
       "      <td>0.000000e+00</td>\n",
       "    </tr>\n",
       "    <tr>\n",
       "      <th>...</th>\n",
       "      <td>...</td>\n",
       "      <td>...</td>\n",
       "      <td>...</td>\n",
       "      <td>...</td>\n",
       "      <td>...</td>\n",
       "    </tr>\n",
       "    <tr>\n",
       "      <th>2022-03-31 23:55:00+00:00</th>\n",
       "      <td>45528.00</td>\n",
       "      <td>45531.00</td>\n",
       "      <td>45481.0</td>\n",
       "      <td>45514.00</td>\n",
       "      <td>2.129568e+06</td>\n",
       "    </tr>\n",
       "    <tr>\n",
       "      <th>2022-03-31 23:56:00+00:00</th>\n",
       "      <td>45514.00</td>\n",
       "      <td>45549.00</td>\n",
       "      <td>45482.0</td>\n",
       "      <td>45525.00</td>\n",
       "      <td>2.630735e+06</td>\n",
       "    </tr>\n",
       "    <tr>\n",
       "      <th>2022-03-31 23:57:00+00:00</th>\n",
       "      <td>45525.00</td>\n",
       "      <td>45530.00</td>\n",
       "      <td>45509.0</td>\n",
       "      <td>45509.00</td>\n",
       "      <td>1.085928e+06</td>\n",
       "    </tr>\n",
       "    <tr>\n",
       "      <th>2022-03-31 23:58:00+00:00</th>\n",
       "      <td>45509.00</td>\n",
       "      <td>45525.00</td>\n",
       "      <td>45486.0</td>\n",
       "      <td>45505.00</td>\n",
       "      <td>1.585121e+06</td>\n",
       "    </tr>\n",
       "    <tr>\n",
       "      <th>2022-03-31 23:59:00+00:00</th>\n",
       "      <td>45505.00</td>\n",
       "      <td>45549.00</td>\n",
       "      <td>45500.0</td>\n",
       "      <td>45524.00</td>\n",
       "      <td>1.680230e+06</td>\n",
       "    </tr>\n",
       "  </tbody>\n",
       "</table>\n",
       "<p>1418577 rows × 5 columns</p>\n",
       "</div>"
      ],
      "text/plain": [
       "                                 op        hi       lo        cl        volume\n",
       "timestamp                                                                     \n",
       "2019-07-20 12:35:00+00:00  10564.25  10572.25  10560.5  10567.75  6.365293e+05\n",
       "2019-07-20 12:36:00+00:00  10570.25  10572.75  10567.0  10569.25  0.000000e+00\n",
       "2019-07-20 12:37:00+00:00  10569.25  10573.25  10567.0  10570.25  0.000000e+00\n",
       "2019-07-20 12:38:00+00:00  10570.25  10572.25  10562.5  10567.00  0.000000e+00\n",
       "2019-07-20 12:39:00+00:00  10567.00  10567.00  10562.5  10564.25  0.000000e+00\n",
       "...                             ...       ...      ...       ...           ...\n",
       "2022-03-31 23:55:00+00:00  45528.00  45531.00  45481.0  45514.00  2.129568e+06\n",
       "2022-03-31 23:56:00+00:00  45514.00  45549.00  45482.0  45525.00  2.630735e+06\n",
       "2022-03-31 23:57:00+00:00  45525.00  45530.00  45509.0  45509.00  1.085928e+06\n",
       "2022-03-31 23:58:00+00:00  45509.00  45525.00  45486.0  45505.00  1.585121e+06\n",
       "2022-03-31 23:59:00+00:00  45505.00  45549.00  45500.0  45524.00  1.680230e+06\n",
       "\n",
       "[1418577 rows x 5 columns]"
      ]
     },
     "metadata": {},
     "output_type": "display_data"
    }
   ],
   "source": [
    "ftx = ccxt.ftx()\n",
    "fetcher = FtxFetcher(ccxt_client=ftx)\n",
    "\n",
    "df = fetcher.fetch_ohlcv(\n",
    "    market='BTC-PERP',\n",
    "    interval_sec=1 * 60,\n",
    ")\n",
    "df = df[df.index < pd.to_datetime('2022-04-01 00:00:00Z')]\n",
    "\n",
    "display(df)\n",
    "df.to_pickle('df_ohlcv.pkl')"
   ]
  },
  {
   "cell_type": "code",
   "execution_count": 9,
   "id": "a58757b0-5088-4b14-ac6e-9c2565be08d5",
   "metadata": {},
   "outputs": [
    {
     "name": "stdout",
     "output_type": "stream",
     "text": [
      "trange 99% 0.006202050739848325\n",
      "trange 99.9% 0.014938539905311394\n",
      "trange 99.99% 0.03404841893598233\n"
     ]
    },
    {
     "data": {
      "image/png": "[encoded data removed]",
      "text/plain": [
       "<Figure size 432x288 with 1 Axes>"
      ]
     },
     "metadata": {
      "needs_background": "light"
     },
     "output_type": "display_data"
    },
    {
     "name": "stdout",
     "output_type": "stream",
     "text": [
      "price_band_deviation 99% 0.006315092402021748\n",
      "price_band_deviation 99.9% 0.015320215083650446\n",
      "price_band_deviation 99.99% 0.037700373543917275\n"
     ]
    },
    {
     "data": {
      "image/png": "[encoded data removed]",
      "text/plain": [
       "<Figure size 432x288 with 1 Axes>"
      ]
     },
     "metadata": {
      "needs_background": "light"
     },
     "output_type": "display_data"
    }
   ],
   "source": [
    "df = pd.read_pickle('df_ohlcv.pkl')\n",
    "\n",
    "df['trange'] = talib.TRANGE(df['hi'], df['lo'], df['cl']) / df['cl']\n",
    "df['twap'] = df['cl'].rolling(5).mean()\n",
    "df['price_band_deviation'] = np.maximum(np.log(df['hi'] / df['twap']), np.log(df['twap'] / df['lo']))\n",
    "\n",
    "df = df.dropna()\n",
    "\n",
    "print('trange 99% {}'.format(df['trange'].quantile(0.99)))\n",
    "print('trange 99.9% {}'.format(df['trange'].quantile(0.999)))\n",
    "print('trange 99.99% {}'.format(df['trange'].quantile(0.9999)))\n",
    "df['trange'].hist(bins=100)\n",
    "plt.show()\n",
    "\n",
    "print('price_band_deviation 99% {}'.format(df['price_band_deviation'].quantile(0.99)))\n",
    "print('price_band_deviation 99.9% {}'.format(df['price_band_deviation'].quantile(0.999)))\n",
    "print('price_band_deviation 99.99% {}'.format(df['price_band_deviation'].quantile(0.9999)))\n",
    "df['price_band_deviation'].hist(bins=100)\n",
    "plt.show()"
   ]
  },
  {
   "cell_type": "code",
   "execution_count": null,
   "id": "c4c21e96-dfe0-4422-9ca6-09bf14ffb90d",
   "metadata": {},
   "outputs": [],
   "source": []
  }
 ],
 "metadata": {
  "kernelspec": {
   "display_name": "Python 3 (ipykernel)",
   "language": "python",
   "name": "python3"
  },
  "language_info": {
   "codemirror_mode": {
    "name": "ipython",
    "version": 3
   },
   "file_extension": ".py",
   "mimetype": "text/x-python",
   "name": "python",
   "nbconvert_exporter": "python",
   "pygments_lexer": "ipython3",
   "version": "3.9.5"
  },
  "pycharm": {
   "stem_cell": {
    "cell_type": "raw",
    "metadata": {
     "collapsed": false
    },
    "source": []
   }
  }
 },
 "nbformat": 4,
 "nbformat_minor": 5
}
